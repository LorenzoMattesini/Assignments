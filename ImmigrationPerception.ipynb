{
 "cells": [
  {
   "cell_type": "markdown",
   "metadata": {
    "collapsed": true
   },
   "source": [
    "# An Analysis of Immigration Perceptions Among European Sub-Regions\n"
   ]
  },
  {
   "cell_type": "markdown",
   "metadata": {},
   "source": [
    "\n",
    "\n",
    "\n"
   ]
  },
  {
   "cell_type": "markdown",
   "metadata": {},
   "source": [
    "|Name|SNR|\n",
    "|----|-------|\n",
    "|Mattia Malerba|2008050|\n",
    "|Lorenzo Mattesini|2014924|"
   ]
  },
  {
   "cell_type": "markdown",
   "metadata": {},
   "source": [
    "## Abstract\n",
    "\n",
    "In this notebook we create a series of indexes measuring the attitudes of two samples of individuals from Western Europe and Southern Europe towards the impact of immigrant in five different aspects: skills, economy, jobs, budget, culture, policy. Then test to see if there is a statistically significant difference in the perception of immigrants by Western and Southern Europeans using a two –tailed Wilcoxon rank-sum test. Through this analysis we find that for two out of six index variables there is such a statistically significant difference, specifically for the impact of immigration on native workers’ job prospects and social security, while acknowledging that potential bias could arise from the fact that our sample may not be fully representative of these European subregions."
   ]
  },
  {
   "cell_type": "markdown",
   "metadata": {},
   "source": [
    "## Research question\n",
    "\n",
    "\n",
    "> *Do Southern and Western European people hold different perceptions on immigration and how does it relate to the economy and society?*"
   ]
  },
  {
   "cell_type": "markdown",
   "metadata": {},
   "source": [
    "## Motivation\n",
    "\n",
    "Across the European continent many populist parties have managed to gain traction and make a substantial impact on their political landscape. One of the common themes that can be found throughout all of these parties is a political hostility towards incoming immigrant, justified by the position that these immigrants have a negative net effect on the country they come to. While this theme is prevalent in Europe, there are a variety of potential cultural differences that could greatly affect the popularity and potential differences in anti-immigrant rhetoric. This experiment was conducted to see if the differences in populist parties between Southern and Western European nations could be partially explained by different perceptions on the impact of immigrants between different cultures."
   ]
  },
  {
   "cell_type": "markdown",
   "metadata": {},
   "source": [
    "## Method\n",
    "\n",
    "The first step in verifying differences in attitudes towards immigration is to create a series of indexes that capture the main ways people think immigrants affect their country. To do this we used 6 variables, each pertaining to a specific question asked to subjects with 5 potential answers varying between “Strongly Disagree”(1) and “Strongly Agree”(5). These variables, with their descriptions, are summarized in the table below:\n",
    "\n",
    "|Variables|Description|\n",
    "|----|------|\n",
    "|Skills|“Immigration introduces useful new skill sets to the labour force”|\n",
    "|Economy|“Immigration improves the economy as a whole”|                           \n",
    "|Jobs|“Immigration harms the job prospects of native workers”|                      \n",
    "|Budget|“Immigration places a strain on social security and pension budget”|       \n",
    "|Culture|“Immigration contributes to a more vibrant culture”|                   \t     \n",
    "|Policy|“Immigration is handled adequately by policy makers”|\n",
    "\n",
    "|Nuisance Variables|\n",
    "|----|\n",
    "|Gender|\n",
    "|Age|\n",
    "\n",
    "The data was collected by a [survey](https://drive.google.com/file/d/1geOMNM4FgH5xrJ0y2GBaGFVGI5gr8ZFn/view?usp=sharing) which was conducted previously in the year as a project for the course \"Methods: Experiments and Surveys\". The surveys were distributed online using the Tilburg University network and the personal network of the experimenters. \n",
    "Afterwards, it was sliced into two subsamples, Western and Southern, depending on the self-identified country of origin of the subject. Assignment into each group from the country of origin provided was done using this legend:\n",
    "\n",
    "> **Western Europen Countries:** United Kingdom, Ireland, France, Germany, The Netherlands, Belgium, Switzerland, Austria. \n",
    "\n",
    "> **Southern Europen Countries:** Greece, Italy, Spain.\n",
    "\n",
    "Once the data was imported and sampled, we summarized the data creating some relevant descriptive statistics. We calculated the average index values for each variable for each subsample and created a bar graph (Figure 1) for more convenient visualization. Each index value average was then tested for statistical significance with its equivalent from the other sub-sample using a two – tailed Wilcoxon rank-sum test.\n"
   ]
  },
  {
   "cell_type": "markdown",
   "metadata": {
    "collapsed": true
   },
   "source": [
    "## Execution\n",
    "\n",
    "### Importing packages and libraries"
   ]
  },
  {
   "cell_type": "code",
   "execution_count": 1,
   "metadata": {
    "collapsed": true
   },
   "outputs": [],
   "source": [
    "import pandas as pd\n",
    "import scipy \n",
    "from scipy import stats\n",
    "import plotly\n",
    "plotly.tools.set_credentials_file(username='m.malerba', api_key='CrjAuwQ3ZkzZj5fSz4dC')\n",
    "import plotly.plotly as py\n",
    "from plotly.graph_objs import *\n",
    "from IPython.display import Image"
   ]
  },
  {
   "cell_type": "markdown",
   "metadata": {},
   "source": [
    "### Import data"
   ]
  },
  {
   "cell_type": "code",
   "execution_count": 2,
   "metadata": {},
   "outputs": [
    {
     "data": {
      "text/html": [
       "<div>\n",
       "<style>\n",
       "    .dataframe thead tr:only-child th {\n",
       "        text-align: right;\n",
       "    }\n",
       "\n",
       "    .dataframe thead th {\n",
       "        text-align: left;\n",
       "    }\n",
       "\n",
       "    .dataframe tbody tr th {\n",
       "        vertical-align: top;\n",
       "    }\n",
       "</style>\n",
       "<table border=\"1\" class=\"dataframe\">\n",
       "  <thead>\n",
       "    <tr style=\"text-align: right;\">\n",
       "      <th></th>\n",
       "      <th>Gender</th>\n",
       "      <th>Age</th>\n",
       "      <th>Southern</th>\n",
       "      <th>Skills</th>\n",
       "      <th>Economy</th>\n",
       "      <th>Jobs</th>\n",
       "      <th>Budget</th>\n",
       "      <th>Culture</th>\n",
       "      <th>Policy</th>\n",
       "    </tr>\n",
       "    <tr>\n",
       "      <th>N°</th>\n",
       "      <th></th>\n",
       "      <th></th>\n",
       "      <th></th>\n",
       "      <th></th>\n",
       "      <th></th>\n",
       "      <th></th>\n",
       "      <th></th>\n",
       "      <th></th>\n",
       "      <th></th>\n",
       "    </tr>\n",
       "  </thead>\n",
       "  <tbody>\n",
       "    <tr>\n",
       "      <th>1</th>\n",
       "      <td>Male</td>\n",
       "      <td>25</td>\n",
       "      <td>1</td>\n",
       "      <td>2</td>\n",
       "      <td>2</td>\n",
       "      <td>3</td>\n",
       "      <td>2</td>\n",
       "      <td>3</td>\n",
       "      <td>2</td>\n",
       "    </tr>\n",
       "    <tr>\n",
       "      <th>2</th>\n",
       "      <td>Male</td>\n",
       "      <td>23</td>\n",
       "      <td>1</td>\n",
       "      <td>4</td>\n",
       "      <td>4</td>\n",
       "      <td>3</td>\n",
       "      <td>3</td>\n",
       "      <td>4</td>\n",
       "      <td>3</td>\n",
       "    </tr>\n",
       "    <tr>\n",
       "      <th>3</th>\n",
       "      <td>Female</td>\n",
       "      <td>23</td>\n",
       "      <td>0</td>\n",
       "      <td>4</td>\n",
       "      <td>4</td>\n",
       "      <td>1</td>\n",
       "      <td>3</td>\n",
       "      <td>5</td>\n",
       "      <td>2</td>\n",
       "    </tr>\n",
       "    <tr>\n",
       "      <th>4</th>\n",
       "      <td>Male</td>\n",
       "      <td>22</td>\n",
       "      <td>0</td>\n",
       "      <td>1</td>\n",
       "      <td>3</td>\n",
       "      <td>4</td>\n",
       "      <td>4</td>\n",
       "      <td>1</td>\n",
       "      <td>3</td>\n",
       "    </tr>\n",
       "    <tr>\n",
       "      <th>5</th>\n",
       "      <td>Female</td>\n",
       "      <td>23</td>\n",
       "      <td>0</td>\n",
       "      <td>4</td>\n",
       "      <td>4</td>\n",
       "      <td>2</td>\n",
       "      <td>5</td>\n",
       "      <td>4</td>\n",
       "      <td>1</td>\n",
       "    </tr>\n",
       "    <tr>\n",
       "      <th>6</th>\n",
       "      <td>Female</td>\n",
       "      <td>24</td>\n",
       "      <td>1</td>\n",
       "      <td>2</td>\n",
       "      <td>2</td>\n",
       "      <td>1</td>\n",
       "      <td>3</td>\n",
       "      <td>2</td>\n",
       "      <td>2</td>\n",
       "    </tr>\n",
       "    <tr>\n",
       "      <th>7</th>\n",
       "      <td>Female</td>\n",
       "      <td>23</td>\n",
       "      <td>1</td>\n",
       "      <td>5</td>\n",
       "      <td>4</td>\n",
       "      <td>1</td>\n",
       "      <td>2</td>\n",
       "      <td>3</td>\n",
       "      <td>2</td>\n",
       "    </tr>\n",
       "    <tr>\n",
       "      <th>8</th>\n",
       "      <td>Male</td>\n",
       "      <td>25</td>\n",
       "      <td>0</td>\n",
       "      <td>4</td>\n",
       "      <td>4</td>\n",
       "      <td>2</td>\n",
       "      <td>2</td>\n",
       "      <td>4</td>\n",
       "      <td>1</td>\n",
       "    </tr>\n",
       "    <tr>\n",
       "      <th>9</th>\n",
       "      <td>Male</td>\n",
       "      <td>25</td>\n",
       "      <td>1</td>\n",
       "      <td>3</td>\n",
       "      <td>4</td>\n",
       "      <td>2</td>\n",
       "      <td>2</td>\n",
       "      <td>3</td>\n",
       "      <td>1</td>\n",
       "    </tr>\n",
       "    <tr>\n",
       "      <th>10</th>\n",
       "      <td>Male</td>\n",
       "      <td>25</td>\n",
       "      <td>1</td>\n",
       "      <td>4</td>\n",
       "      <td>4</td>\n",
       "      <td>2</td>\n",
       "      <td>3</td>\n",
       "      <td>4</td>\n",
       "      <td>2</td>\n",
       "    </tr>\n",
       "  </tbody>\n",
       "</table>\n",
       "</div>"
      ],
      "text/plain": [
       "    Gender  Age  Southern  Skills  Economy  Jobs  Budget  Culture  Policy\n",
       "N°                                                                       \n",
       "1     Male   25         1       2        2     3       2        3       2\n",
       "2     Male   23         1       4        4     3       3        4       3\n",
       "3   Female   23         0       4        4     1       3        5       2\n",
       "4     Male   22         0       1        3     4       4        1       3\n",
       "5   Female   23         0       4        4     2       5        4       1\n",
       "6   Female   24         1       2        2     1       3        2       2\n",
       "7   Female   23         1       5        4     1       2        3       2\n",
       "8     Male   25         0       4        4     2       2        4       1\n",
       "9     Male   25         1       3        4     2       2        3       1\n",
       "10    Male   25         1       4        4     2       3        4       2"
      ]
     },
     "execution_count": 2,
     "metadata": {},
     "output_type": "execute_result"
    }
   ],
   "source": [
    "#Premilinary data cleaning has been done separately on Excel, after downloading the data from Qualtrics. Specifically, a new variable 'Southern' has been defined and equals 0 for Western Countries and 1 for Southern Countries. Therefore, the variable 'Nationality' has been subsequently dropped.\n",
    "\n",
    "df = pd.read_csv('Dataset.csv', sep=\";\", header=0, index_col=0)\n",
    "df.head(10)                #the first 10 elements of the dataset are shown below"
   ]
  },
  {
   "cell_type": "markdown",
   "metadata": {},
   "source": [
    "### Descriptive Statistics\n",
    "\n",
    "As we look at demographics between samples, we observe that they are relatively balanced across age and gender. Only Southern Europe presents a larger number of males compared to females. \n",
    "\n",
    "\n"
   ]
  },
  {
   "cell_type": "code",
   "execution_count": 3,
   "metadata": {},
   "outputs": [
    {
     "data": {
      "text/html": [
       "<div>\n",
       "<style>\n",
       "    .dataframe thead tr:only-child th {\n",
       "        text-align: right;\n",
       "    }\n",
       "\n",
       "    .dataframe thead th {\n",
       "        text-align: left;\n",
       "    }\n",
       "\n",
       "    .dataframe tbody tr th {\n",
       "        vertical-align: top;\n",
       "    }\n",
       "</style>\n",
       "<table border=\"1\" class=\"dataframe\">\n",
       "  <thead>\n",
       "    <tr style=\"text-align: right;\">\n",
       "      <th></th>\n",
       "      <th>count</th>\n",
       "      <th>mean</th>\n",
       "      <th>std</th>\n",
       "      <th>min</th>\n",
       "      <th>25%</th>\n",
       "      <th>50%</th>\n",
       "      <th>75%</th>\n",
       "      <th>max</th>\n",
       "    </tr>\n",
       "  </thead>\n",
       "  <tbody>\n",
       "    <tr>\n",
       "      <th>Age</th>\n",
       "      <td>36.0</td>\n",
       "      <td>23.944444</td>\n",
       "      <td>2.123938</td>\n",
       "      <td>16.0</td>\n",
       "      <td>23.0</td>\n",
       "      <td>25.0</td>\n",
       "      <td>25.0</td>\n",
       "      <td>28.0</td>\n",
       "    </tr>\n",
       "  </tbody>\n",
       "</table>\n",
       "</div>"
      ],
      "text/plain": [
       "     count       mean       std   min   25%   50%   75%   max\n",
       "Age   36.0  23.944444  2.123938  16.0  23.0  25.0  25.0  28.0"
      ]
     },
     "execution_count": 3,
     "metadata": {},
     "output_type": "execute_result"
    }
   ],
   "source": [
    "#Division of the sample into Southern Countries and Western Countries. Relevant descriptive statistics for the variable Age and Gender are summarized into four different tables.\n",
    "\n",
    "south = df[df.Southern == 1]\n",
    "south1 = south[south.columns.difference(['Southern', 'Budget', 'Culture', 'Economy', 'Jobs', 'Policy', 'Skills'])]\n",
    "south1.describe().T"
   ]
  },
  {
   "cell_type": "markdown",
   "metadata": {},
   "source": [
    "*Table 1: Descriptive statistics of the variable Age for Southern Countries*"
   ]
  },
  {
   "cell_type": "code",
   "execution_count": 4,
   "metadata": {},
   "outputs": [
    {
     "data": {
      "text/html": [
       "<div>\n",
       "<style>\n",
       "    .dataframe thead tr:only-child th {\n",
       "        text-align: right;\n",
       "    }\n",
       "\n",
       "    .dataframe thead th {\n",
       "        text-align: left;\n",
       "    }\n",
       "\n",
       "    .dataframe tbody tr th {\n",
       "        vertical-align: top;\n",
       "    }\n",
       "</style>\n",
       "<table border=\"1\" class=\"dataframe\">\n",
       "  <thead>\n",
       "    <tr style=\"text-align: right;\">\n",
       "      <th></th>\n",
       "      <th>count</th>\n",
       "      <th>mean</th>\n",
       "      <th>std</th>\n",
       "      <th>min</th>\n",
       "      <th>25%</th>\n",
       "      <th>50%</th>\n",
       "      <th>75%</th>\n",
       "      <th>max</th>\n",
       "    </tr>\n",
       "  </thead>\n",
       "  <tbody>\n",
       "    <tr>\n",
       "      <th>Age</th>\n",
       "      <td>36.0</td>\n",
       "      <td>24.694444</td>\n",
       "      <td>6.131043</td>\n",
       "      <td>19.0</td>\n",
       "      <td>22.75</td>\n",
       "      <td>24.0</td>\n",
       "      <td>25.0</td>\n",
       "      <td>58.0</td>\n",
       "    </tr>\n",
       "  </tbody>\n",
       "</table>\n",
       "</div>"
      ],
      "text/plain": [
       "     count       mean       std   min    25%   50%   75%   max\n",
       "Age   36.0  24.694444  6.131043  19.0  22.75  24.0  25.0  58.0"
      ]
     },
     "execution_count": 4,
     "metadata": {},
     "output_type": "execute_result"
    }
   ],
   "source": [
    "west = df[df.Southern == 0]\n",
    "west1 = west[west.columns.difference(['Southern', 'Budget', 'Culture', 'Economy', 'Jobs', 'Policy', 'Skills'])]\n",
    "west1.describe().T"
   ]
  },
  {
   "cell_type": "markdown",
   "metadata": {},
   "source": [
    "*Table 2: Descriptive statistics of the variable Age for Western Countries*"
   ]
  },
  {
   "cell_type": "code",
   "execution_count": 5,
   "metadata": {},
   "outputs": [
    {
     "data": {
      "text/plain": [
       "[Male      24\n",
       " Female    12\n",
       " Name: Gender, dtype: int64]"
      ]
     },
     "execution_count": 5,
     "metadata": {},
     "output_type": "execute_result"
    }
   ],
   "source": [
    "south.select_dtypes(include=['O'])\n",
    "list(south.select_dtypes(include=['O']).columns)\n",
    "[south[c].value_counts() for c in list(south.select_dtypes(include=['O']).columns)]"
   ]
  },
  {
   "cell_type": "markdown",
   "metadata": {},
   "source": [
    "*Table 3: Frequency table for Southern Countries by Gender*"
   ]
  },
  {
   "cell_type": "code",
   "execution_count": 6,
   "metadata": {},
   "outputs": [
    {
     "data": {
      "text/plain": [
       "[Male      18\n",
       " Female    18\n",
       " Name: Gender, dtype: int64]"
      ]
     },
     "execution_count": 6,
     "metadata": {},
     "output_type": "execute_result"
    }
   ],
   "source": [
    "west.select_dtypes(include=['O'])\n",
    "list(west.select_dtypes(include=['O']).columns)\n",
    "[west[c].value_counts() for c in list(west.select_dtypes(include=['O']).columns)]"
   ]
  },
  {
   "cell_type": "markdown",
   "metadata": {},
   "source": [
    "*Table 4: Frequency table for Western Countries by Gender*"
   ]
  },
  {
   "cell_type": "markdown",
   "metadata": {},
   "source": [
    "The tables below show some descriptive statistics of our index variables, for Southern Europe and Western Europe respectively. Furthermore, differences between means are summarized in a bar graph."
   ]
  },
  {
   "cell_type": "code",
   "execution_count": 7,
   "metadata": {},
   "outputs": [
    {
     "data": {
      "text/html": [
       "<div>\n",
       "<style>\n",
       "    .dataframe thead tr:only-child th {\n",
       "        text-align: right;\n",
       "    }\n",
       "\n",
       "    .dataframe thead th {\n",
       "        text-align: left;\n",
       "    }\n",
       "\n",
       "    .dataframe tbody tr th {\n",
       "        vertical-align: top;\n",
       "    }\n",
       "</style>\n",
       "<table border=\"1\" class=\"dataframe\">\n",
       "  <thead>\n",
       "    <tr style=\"text-align: right;\">\n",
       "      <th></th>\n",
       "      <th>count</th>\n",
       "      <th>mean</th>\n",
       "      <th>std</th>\n",
       "      <th>min</th>\n",
       "      <th>25%</th>\n",
       "      <th>50%</th>\n",
       "      <th>75%</th>\n",
       "      <th>max</th>\n",
       "    </tr>\n",
       "  </thead>\n",
       "  <tbody>\n",
       "    <tr>\n",
       "      <th>Budget</th>\n",
       "      <td>36.0</td>\n",
       "      <td>2.666667</td>\n",
       "      <td>1.264911</td>\n",
       "      <td>1.0</td>\n",
       "      <td>2.0</td>\n",
       "      <td>2.5</td>\n",
       "      <td>3.25</td>\n",
       "      <td>5.0</td>\n",
       "    </tr>\n",
       "    <tr>\n",
       "      <th>Culture</th>\n",
       "      <td>36.0</td>\n",
       "      <td>3.833333</td>\n",
       "      <td>0.971008</td>\n",
       "      <td>2.0</td>\n",
       "      <td>3.0</td>\n",
       "      <td>4.0</td>\n",
       "      <td>4.25</td>\n",
       "      <td>5.0</td>\n",
       "    </tr>\n",
       "    <tr>\n",
       "      <th>Economy</th>\n",
       "      <td>36.0</td>\n",
       "      <td>3.722222</td>\n",
       "      <td>0.778684</td>\n",
       "      <td>2.0</td>\n",
       "      <td>3.0</td>\n",
       "      <td>4.0</td>\n",
       "      <td>4.00</td>\n",
       "      <td>5.0</td>\n",
       "    </tr>\n",
       "    <tr>\n",
       "      <th>Jobs</th>\n",
       "      <td>36.0</td>\n",
       "      <td>2.166667</td>\n",
       "      <td>1.108409</td>\n",
       "      <td>1.0</td>\n",
       "      <td>1.0</td>\n",
       "      <td>2.0</td>\n",
       "      <td>3.00</td>\n",
       "      <td>5.0</td>\n",
       "    </tr>\n",
       "    <tr>\n",
       "      <th>Policy</th>\n",
       "      <td>36.0</td>\n",
       "      <td>2.416667</td>\n",
       "      <td>1.052209</td>\n",
       "      <td>1.0</td>\n",
       "      <td>2.0</td>\n",
       "      <td>2.0</td>\n",
       "      <td>3.00</td>\n",
       "      <td>5.0</td>\n",
       "    </tr>\n",
       "    <tr>\n",
       "      <th>Skills</th>\n",
       "      <td>36.0</td>\n",
       "      <td>3.527778</td>\n",
       "      <td>1.081959</td>\n",
       "      <td>1.0</td>\n",
       "      <td>3.0</td>\n",
       "      <td>4.0</td>\n",
       "      <td>4.00</td>\n",
       "      <td>5.0</td>\n",
       "    </tr>\n",
       "  </tbody>\n",
       "</table>\n",
       "</div>"
      ],
      "text/plain": [
       "         count      mean       std  min  25%  50%   75%  max\n",
       "Budget    36.0  2.666667  1.264911  1.0  2.0  2.5  3.25  5.0\n",
       "Culture   36.0  3.833333  0.971008  2.0  3.0  4.0  4.25  5.0\n",
       "Economy   36.0  3.722222  0.778684  2.0  3.0  4.0  4.00  5.0\n",
       "Jobs      36.0  2.166667  1.108409  1.0  1.0  2.0  3.00  5.0\n",
       "Policy    36.0  2.416667  1.052209  1.0  2.0  2.0  3.00  5.0\n",
       "Skills    36.0  3.527778  1.081959  1.0  3.0  4.0  4.00  5.0"
      ]
     },
     "execution_count": 7,
     "metadata": {},
     "output_type": "execute_result"
    }
   ],
   "source": [
    "south2 = south[south.columns.difference(['Age', 'Southern'])]\n",
    "south2.describe().T"
   ]
  },
  {
   "cell_type": "markdown",
   "metadata": {},
   "source": [
    "*Table 5: Descriptive statistics of index variables for Southern Europe*"
   ]
  },
  {
   "cell_type": "code",
   "execution_count": 8,
   "metadata": {},
   "outputs": [
    {
     "data": {
      "text/html": [
       "<div>\n",
       "<style>\n",
       "    .dataframe thead tr:only-child th {\n",
       "        text-align: right;\n",
       "    }\n",
       "\n",
       "    .dataframe thead th {\n",
       "        text-align: left;\n",
       "    }\n",
       "\n",
       "    .dataframe tbody tr th {\n",
       "        vertical-align: top;\n",
       "    }\n",
       "</style>\n",
       "<table border=\"1\" class=\"dataframe\">\n",
       "  <thead>\n",
       "    <tr style=\"text-align: right;\">\n",
       "      <th></th>\n",
       "      <th>count</th>\n",
       "      <th>mean</th>\n",
       "      <th>std</th>\n",
       "      <th>min</th>\n",
       "      <th>25%</th>\n",
       "      <th>50%</th>\n",
       "      <th>75%</th>\n",
       "      <th>max</th>\n",
       "    </tr>\n",
       "  </thead>\n",
       "  <tbody>\n",
       "    <tr>\n",
       "      <th>Budget</th>\n",
       "      <td>36.0</td>\n",
       "      <td>3.222222</td>\n",
       "      <td>1.072010</td>\n",
       "      <td>1.0</td>\n",
       "      <td>2.00</td>\n",
       "      <td>3.5</td>\n",
       "      <td>4.0</td>\n",
       "      <td>5.0</td>\n",
       "    </tr>\n",
       "    <tr>\n",
       "      <th>Culture</th>\n",
       "      <td>36.0</td>\n",
       "      <td>3.305556</td>\n",
       "      <td>1.327069</td>\n",
       "      <td>1.0</td>\n",
       "      <td>2.00</td>\n",
       "      <td>4.0</td>\n",
       "      <td>4.0</td>\n",
       "      <td>5.0</td>\n",
       "    </tr>\n",
       "    <tr>\n",
       "      <th>Economy</th>\n",
       "      <td>36.0</td>\n",
       "      <td>3.555556</td>\n",
       "      <td>1.106976</td>\n",
       "      <td>1.0</td>\n",
       "      <td>3.00</td>\n",
       "      <td>4.0</td>\n",
       "      <td>4.0</td>\n",
       "      <td>5.0</td>\n",
       "    </tr>\n",
       "    <tr>\n",
       "      <th>Jobs</th>\n",
       "      <td>36.0</td>\n",
       "      <td>2.694444</td>\n",
       "      <td>1.009086</td>\n",
       "      <td>1.0</td>\n",
       "      <td>2.00</td>\n",
       "      <td>2.0</td>\n",
       "      <td>4.0</td>\n",
       "      <td>5.0</td>\n",
       "    </tr>\n",
       "    <tr>\n",
       "      <th>Policy</th>\n",
       "      <td>36.0</td>\n",
       "      <td>2.638889</td>\n",
       "      <td>1.073120</td>\n",
       "      <td>1.0</td>\n",
       "      <td>2.00</td>\n",
       "      <td>2.0</td>\n",
       "      <td>4.0</td>\n",
       "      <td>5.0</td>\n",
       "    </tr>\n",
       "    <tr>\n",
       "      <th>Skills</th>\n",
       "      <td>36.0</td>\n",
       "      <td>3.500000</td>\n",
       "      <td>1.133893</td>\n",
       "      <td>1.0</td>\n",
       "      <td>2.75</td>\n",
       "      <td>4.0</td>\n",
       "      <td>4.0</td>\n",
       "      <td>5.0</td>\n",
       "    </tr>\n",
       "  </tbody>\n",
       "</table>\n",
       "</div>"
      ],
      "text/plain": [
       "         count      mean       std  min   25%  50%  75%  max\n",
       "Budget    36.0  3.222222  1.072010  1.0  2.00  3.5  4.0  5.0\n",
       "Culture   36.0  3.305556  1.327069  1.0  2.00  4.0  4.0  5.0\n",
       "Economy   36.0  3.555556  1.106976  1.0  3.00  4.0  4.0  5.0\n",
       "Jobs      36.0  2.694444  1.009086  1.0  2.00  2.0  4.0  5.0\n",
       "Policy    36.0  2.638889  1.073120  1.0  2.00  2.0  4.0  5.0\n",
       "Skills    36.0  3.500000  1.133893  1.0  2.75  4.0  4.0  5.0"
      ]
     },
     "execution_count": 8,
     "metadata": {},
     "output_type": "execute_result"
    }
   ],
   "source": [
    "west2 = west[west.columns.difference(['Age', 'Southern'])]\n",
    "west2.describe().T"
   ]
  },
  {
   "cell_type": "markdown",
   "metadata": {},
   "source": [
    "*Table 6: Descriptive statistics of index variables for Western Europe*"
   ]
  },
  {
   "cell_type": "code",
   "execution_count": 9,
   "metadata": {
    "collapsed": true
   },
   "outputs": [],
   "source": [
    "#Preparing the data to plot the bar graph by creating two arrays containing the means of the index variables by European subregion\n",
    "\n",
    "import csv\n",
    "\n",
    "sskills=0\n",
    "wskills=0\n",
    "seconomy=0\n",
    "weconomy=0\n",
    "sjobs=0\n",
    "wjobs=0\n",
    "sbudget=0\n",
    "wbudget=0\n",
    "sculture=0\n",
    "wculture=0\n",
    "spolicy=0\n",
    "wpolicy=0\n",
    "\n",
    "with open('Dataset.csv') as csvfile:\n",
    "    readCSV = csv.reader(csvfile, delimiter=';')\n",
    "    counter = 0    \n",
    "    for row in readCSV:\n",
    "        if row[4] != \"Skills\":\n",
    "            if int(row[3]) == 1:\n",
    "                sskills = int(sskills) + int(row[4])\n",
    "            else: \n",
    "                wskills = int(wskills) + int(row[4])\n",
    "            counter += 1;\n",
    "with open('Dataset.csv') as csvfile:\n",
    "    readCSV = csv.reader(csvfile, delimiter=';')\n",
    "    counter = 0  \n",
    "    for row in readCSV:\n",
    "        if row[5] != \"Economy\":\n",
    "            if int(row[3]) == 1:\n",
    "                seconomy = int(seconomy) + int(row[5])\n",
    "            else: \n",
    "                weconomy = int(weconomy) + int(row[5])\n",
    "            counter += 1;\n",
    "with open('Dataset.csv') as csvfile:\n",
    "    readCSV = csv.reader(csvfile, delimiter=';')\n",
    "    counter = 0  \n",
    "    for row in readCSV:\n",
    "        if row[6] != \"Jobs\":\n",
    "            if int(row[3]) == 1:\n",
    "                sjobs = int(sjobs) + int(row[6])\n",
    "            else: \n",
    "                wjobs = int(wjobs) + int(row[6])\n",
    "            counter += 1;\n",
    "with open('Dataset.csv') as csvfile:\n",
    "    readCSV = csv.reader(csvfile, delimiter=';')\n",
    "    counter = 0  \n",
    "    for row in readCSV:\n",
    "        if row[7] != \"Budget\":\n",
    "            if int(row[3]) == 1:\n",
    "                sbudget = int(sbudget) + int(row[7])\n",
    "            else: \n",
    "                wbudget = int(wbudget) + int(row[7])\n",
    "            counter += 1;     \n",
    "with open('Dataset.csv') as csvfile:\n",
    "    readCSV = csv.reader(csvfile, delimiter=';')\n",
    "    counter = 0  \n",
    "    for row in readCSV:\n",
    "        if row[8] != \"Culture\":\n",
    "            if int(row[3]) == 1:\n",
    "                sculture = int(sculture) + int(row[8])\n",
    "            else: \n",
    "                wculture = int(wculture) + int(row[8])\n",
    "            counter += 1;   \n",
    "with open('Dataset.csv') as csvfile:\n",
    "    readCSV = csv.reader(csvfile, delimiter=';')\n",
    "    counter = 0  \n",
    "    for row in readCSV:\n",
    "        if row[9] != \"Policy\":\n",
    "            if int(row[3]) == 1:\n",
    "                spolicy = int(spolicy) + int(row[9])\n",
    "            else: \n",
    "                wpolicy = int(wpolicy) + int(row[9])\n",
    "            counter += 1;\n",
    "\n",
    "mean_sskills = float(sskills) / float(counter/2)\n",
    "mean_wskills = float(wskills) / float(counter/2)\n",
    "mean_seconomy = float(seconomy) / float(counter/2)\n",
    "mean_weconomy = float(weconomy) / float(counter/2)\n",
    "mean_sjobs = float(sjobs) / float(counter/2)\n",
    "mean_wjobs = float(wjobs) / float(counter/2)\n",
    "mean_sbudget = float(sbudget) / float(counter/2)\n",
    "mean_wbudget = float(wbudget) / float(counter/2)\n",
    "mean_sculture = float(sculture) / float(counter/2)\n",
    "mean_wculture = float(wculture) / float(counter/2)\n",
    "mean_spolicy = float(spolicy) / float(counter/2)\n",
    "mean_wpolicy = float(wpolicy) / float(counter/2)\n",
    "\n",
    "southern_means = [mean_sskills, mean_seconomy, mean_sjobs, mean_sbudget, mean_sculture, mean_spolicy]\n",
    "western_means = [mean_wskills, mean_weconomy, mean_wjobs, mean_wbudget, mean_wculture, mean_wpolicy]\n",
    "means_labels = ['Skills', 'Economy', 'Jobs', 'Budget', 'Culture', 'Policy']"
   ]
  },
  {
   "cell_type": "code",
   "execution_count": 23,
   "metadata": {},
   "outputs": [
    {
     "data": {
      "image/png": "[encoded data removed]",
      "text/plain": [
       "<IPython.core.display.Image object>"
      ]
     },
     "execution_count": 23,
     "metadata": {},
     "output_type": "execute_result"
    }
   ],
   "source": [
    "#Plotting the bar graph\n",
    "\n",
    "trace_south = Bar(x=means_labels,\n",
    "                  y=southern_means,\n",
    "                  name='Southern Europe',\n",
    "                  marker=dict(color='#0000FF'))\n",
    "trace_west = Bar(x=means_labels,\n",
    "                 y=western_means,\n",
    "                 name='Western Europe',\n",
    "                 marker=dict(color='#DF0101'))\n",
    "data = [trace_south, trace_west]\n",
    "layout = Layout(title=\"Mean of Index Variables by European Sub-Region\",\n",
    "                xaxis=dict(title='Categories'),\n",
    "                yaxis=dict(title='Values'))\n",
    "fig = Figure(data=data, layout=layout)\n",
    "\n",
    "py.iplot(fig, filename='histogram1', sharing='public')\n",
    "py.image.save_as(fig, filename='histogram.png')\n",
    "Image('histogram.png')"
   ]
  },
  {
   "cell_type": "markdown",
   "metadata": {
    "collapsed": true
   },
   "source": [
    "### Statistical analysis"
   ]
  },
  {
   "cell_type": "code",
   "execution_count": 11,
   "metadata": {
    "collapsed": true
   },
   "outputs": [],
   "source": [
    "#Definition of the subsamples needed to run statistical tests\n",
    "\n",
    "#Budget\n",
    "west_budget = west[west.columns.difference(['Age', 'Southern', 'Economy', 'Jobs', 'Policy', 'Skills','Culture','Gender'])]\n",
    "south_budget = south[south.columns.difference(['Age', 'Southern', 'Economy', 'Jobs', 'Policy', 'Skills','Culture','Gender'])]\n",
    "#Culture\n",
    "west_culture = west[west.columns.difference(['Age', 'Southern', 'Economy', 'Jobs', 'Policy', 'Skills','Budget','Gender'])]\n",
    "south_culture = south[south.columns.difference(['Age', 'Southern', 'Economy', 'Jobs', 'Policy', 'Skills','Budget','Gender'])]\n",
    "#Economy\n",
    "west_economy = west[west.columns.difference(['Age', 'Southern', 'Budget', 'Jobs', 'Policy', 'Skills','Culture','Gender'])]\n",
    "south_economy = south[south.columns.difference(['Age', 'Southern', 'Budget', 'Jobs', 'Policy', 'Skills','Culture','Gender'])]\n",
    "#Jobs\n",
    "west_jobs = west[west.columns.difference(['Age', 'Southern', 'Economy', 'Budget', 'Policy', 'Skills','Culture','Gender'])]\n",
    "south_jobs = south[south.columns.difference(['Age', 'Southern', 'Economy', 'Budget', 'Policy', 'Skills','Culture','Gender'])]\n",
    "#Policy\n",
    "west_policy = west[west.columns.difference(['Age', 'Southern', 'Economy', 'Jobs', 'Budget', 'Skills','Culture','Gender'])]\n",
    "south_policy = south[south.columns.difference(['Age', 'Southern', 'Economy', 'Jobs', 'Budget', 'Skills','Culture','Gender'])]\n",
    "#Skills\n",
    "west_skills = west[west.columns.difference(['Age', 'Southern', 'Economy', 'Jobs', 'Policy', 'Budget','Culture','Gender'])]\n",
    "south_skills = south[south.columns.difference(['Age', 'Southern', 'Economy', 'Jobs', 'Policy', 'Budget','Culture','Gender'])]"
   ]
  },
  {
   "cell_type": "markdown",
   "metadata": {},
   "source": [
    "In order to evaluate our research question, we need to find out if subjects display different perceptions on immigration between the two samples. Thus, our null and alternative hypotheses can be generally stated as follows:\n",
    "\n",
    "> **Null Hypothesis:** Perceptions of the effects of immigration on the economy and society in Western Europe are the same as those in Southern Europe.\n",
    "\n",
    "> **Alternative Hypothesis**: Perceptions of the effects of immigration on the economy and society in Western Europe are different to those in Southern Europe.\n",
    "\n",
    "To test for these hypotheses, we need to compare every mean of our variables of interest between Southern and Western Europe. Since our variables are ordinal and our samples are independent from each other, we perform, for each variable, a Wilcoxon rank-sum test. We pre-emptively choose a 10% significance level for our tests. The outputs are reported below.\n"
   ]
  },
  {
   "cell_type": "markdown",
   "metadata": {},
   "source": [
    "#### 1. Budget"
   ]
  },
  {
   "cell_type": "code",
   "execution_count": 12,
   "metadata": {},
   "outputs": [
    {
     "data": {
      "text/plain": [
       "RanksumsResult(statistic=1.9427449628985221, pvalue=0.05204698069306693)"
      ]
     },
     "execution_count": 12,
     "metadata": {},
     "output_type": "execute_result"
    }
   ],
   "source": [
    "scipy.stats.ranksums(west_budget, south_budget)"
   ]
  },
  {
   "cell_type": "markdown",
   "metadata": {},
   "source": [
    "#### 2. Culture"
   ]
  },
  {
   "cell_type": "code",
   "execution_count": 13,
   "metadata": {},
   "outputs": [
    {
     "data": {
      "text/plain": [
       "RanksumsResult(statistic=-1.5035156669388563, pvalue=0.1327061199722343)"
      ]
     },
     "execution_count": 13,
     "metadata": {},
     "output_type": "execute_result"
    }
   ],
   "source": [
    "scipy.stats.ranksums(west_culture, south_culture)"
   ]
  },
  {
   "cell_type": "markdown",
   "metadata": {},
   "source": [
    "#### 3. Economy"
   ]
  },
  {
   "cell_type": "code",
   "execution_count": 14,
   "metadata": {},
   "outputs": [
    {
     "data": {
      "text/plain": [
       "RanksumsResult(statistic=-0.32660639955975157, pvalue=0.74396560262698386)"
      ]
     },
     "execution_count": 14,
     "metadata": {},
     "output_type": "execute_result"
    }
   ],
   "source": [
    "scipy.stats.ranksums(west_economy, south_economy)"
   ]
  },
  {
   "cell_type": "markdown",
   "metadata": {},
   "source": [
    "#### 4. Jobs"
   ]
  },
  {
   "cell_type": "code",
   "execution_count": 15,
   "metadata": {},
   "outputs": [
    {
     "data": {
      "text/plain": [
       "RanksumsResult(statistic=2.0722612937584235, pvalue=0.03824108000678763)"
      ]
     },
     "execution_count": 15,
     "metadata": {},
     "output_type": "execute_result"
    }
   ],
   "source": [
    "scipy.stats.ranksums(west_jobs, south_jobs)"
   ]
  },
  {
   "cell_type": "markdown",
   "metadata": {},
   "source": [
    "#### 5. Policy"
   ]
  },
  {
   "cell_type": "code",
   "execution_count": 16,
   "metadata": {},
   "outputs": [
    {
     "data": {
      "text/plain": [
       "RanksumsResult(statistic=0.85030286781935316, pvalue=0.3951567225679119)"
      ]
     },
     "execution_count": 16,
     "metadata": {},
     "output_type": "execute_result"
    }
   ],
   "source": [
    "scipy.stats.ranksums(west_policy, south_policy)"
   ]
  },
  {
   "cell_type": "markdown",
   "metadata": {},
   "source": [
    "#### 6. Skills"
   ]
  },
  {
   "cell_type": "code",
   "execution_count": 17,
   "metadata": {},
   "outputs": [
    {
     "data": {
      "text/plain": [
       "RanksumsResult(statistic=0.0056311448199957165, pvalue=0.99550702023373527)"
      ]
     },
     "execution_count": 17,
     "metadata": {},
     "output_type": "execute_result"
    }
   ],
   "source": [
    "scipy.stats.ranksums(west_skills, south_skills)"
   ]
  },
  {
   "cell_type": "markdown",
   "metadata": {},
   "source": [
    "## Results\n",
    "\n",
    "We fail to reject the null that Southern and Western Europeans have the same views on the effects of immigration on the economy (p-value=0.7439), labour force skills (*p-value=0.9955*) and culture (*p-value=0.1327*), and also whether or not it is being adequately handled by policy makers (*p-value=0.3951*). In other words, we find no evidence of differences in perceptions between these two European sub-regions for these topics.\n",
    "\n",
    "However, in the case of immigration’s impact on job prospects of native workers *(__p-value=0.0382__)* and social security/pension budgets *(__p-value=0.0520__)* we find statistically significant evidence that Western and Southern Europeans hold different views on these effects, as we reject the null hypotheses of equivalent perceptions."
   ]
  },
  {
   "cell_type": "markdown",
   "metadata": {},
   "source": [
    "## Discussion and Conclusion\n",
    "\n",
    "Based on the previously discussed results, we now have a broader view on the cultural differences between Southern and Western Europe regarding attitudes towards the impacts of immigration. From this broad view we can make some conclusions regarding the potential differences in the characteristics of populist parties that would arise in these sub-regions. We could expect populist parties in Western European nations to have a somewhat more aggressive stance against immigrant that in Southern Europe in general, especially regarding the budgetary and labour market impact of immigration. Upon reflection, this should make some sense given the current differences between the two sub-regions: Western Europe has typically been characterized by a comparatively healthier labour market, driven more by high-tech exports; similarly, Western European governments tend to have much stronger budget balances, the result of strict financial austerity. Therefore it should be somewhat understandable that people from these countries may fear an immigrant influx which could jeopardize their job opportunities and the size of their government’s spending. And this fear is exactly what would shape the anti-immigrant rhetoric of their national populist parties. \n",
    "\n",
    "While our analysis holds under econometric scrutiny we urge caution in assuming the external, applicable validity of these findings, as our sample contains predominantly university educated students and their personal networks, and as such may not be a representative sample of the people in these European sub-regions. \n"
   ]
  }
 ],
 "metadata": {
  "kernelspec": {
   "display_name": "Python 3",
   "language": "python",
   "name": "python3"
  },
  "language_info": {
   "codemirror_mode": {
    "name": "ipython",
    "version": 3
   },
   "file_extension": ".py",
   "mimetype": "text/x-python",
   "name": "python",
   "nbconvert_exporter": "python",
   "pygments_lexer": "ipython3",
   "version": "3.6.3"
  }
 },
 "nbformat": 4,
 "nbformat_minor": 2
}
